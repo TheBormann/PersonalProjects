{
 "cells": [
  {
   "cell_type": "markdown",
   "metadata": {
    "collapsed": true,
    "pycharm": {
     "name": "#%% md\n"
    }
   },
   "source": [
    "## Visualization of relationship between country indices and crypto currency value\n",
    "\n",
    "This notebook will focus on the theory, that x percent of money that gets pulled out of an index, gets put inside crypto\n",
    "currency."
   ]
  },
  {
   "cell_type": "code",
   "execution_count": 1,
   "outputs": [],
   "source": [
    "import numpy as np\n",
    "import pandas as pd\n",
    "import  sqlite3\n",
    "import matplotlib.pyplot as plt\n",
    "import seaborn as sns"
   ],
   "metadata": {
    "collapsed": false,
    "pycharm": {
     "name": "#%%\n"
    }
   }
  },
  {
   "cell_type": "markdown",
   "source": [
    "### Load data"
   ],
   "metadata": {
    "collapsed": false,
    "pycharm": {
     "name": "#%% md\n"
    }
   }
  },
  {
   "cell_type": "code",
   "execution_count": 2,
   "outputs": [],
   "source": [
    "try:\n",
    "    conn = sqlite3.connect('../data/gathered/Crypto_index.db')\n",
    "    cursor = conn.cursor()\n",
    "except:\n",
    "    print(\"Database  couldn ’t get  created/be found\")\n",
    "\n",
    "index_raw = pd.read_sql(\"select * from  indices\", con=conn)\n",
    "crypto_raw = pd.read_sql(\"select * from  Crypto\", con=conn)\n",
    "\n",
    "conn.close ()"
   ],
   "metadata": {
    "collapsed": false,
    "pycharm": {
     "name": "#%%\n"
    }
   }
  },
  {
   "cell_type": "code",
   "execution_count": 3,
   "outputs": [
    {
     "name": "stdout",
     "output_type": "stream",
     "text": [
      "<bound method DataFrame.info of            date                       index    country        last  \\\n",
      "0    2020-09-21                  S&P Merval  Argentina    41484.06   \n",
      "1    2020-09-21  S&P/BYMA Argentina General  Argentina  1755630.00   \n",
      "2    2020-09-21                 S&P/ASX 200  Australia     5822.60   \n",
      "3    2020-09-21          ASX All Ordinaries  Australia     6013.50   \n",
      "4    2020-09-21        ASX Small Ordinaries  Australia     2754.40   \n",
      "..          ...                         ...        ...         ...   \n",
      "743  2020-09-22               LSE All Share     Zambia     3823.68   \n",
      "744  2020-09-22                      LSE EN     Zambia      246.89   \n",
      "745  2020-09-22                     LSE Inv     Zambia      350.98   \n",
      "746  2020-09-22         Zimbabwe Industrial   Zimbabwe     5438.59   \n",
      "747  2020-09-22             Zimbabwe Mining   Zimbabwe     3853.21   \n",
      "\n",
      "           high         low  changeTotal  \n",
      "0      41514.85    39501.22      1684.17  \n",
      "1    1756533.00  1673531.00     69052.00  \n",
      "2       5868.50     5808.20       -41.90  \n",
      "3       6060.50     6000.10       -44.10  \n",
      "4       2784.70     2751.30       -25.60  \n",
      "..          ...         ...          ...  \n",
      "743     3823.68     3823.68         0.00  \n",
      "744      246.89      246.89         0.00  \n",
      "745      350.98      350.98         0.00  \n",
      "746     5438.59     5438.59       -14.87  \n",
      "747     3853.21     3853.21        -1.09  \n",
      "\n",
      "[748 rows x 7 columns]>\n"
     ]
    },
    {
     "data": {
      "text/plain": "         date                       index    country        last        high  \\\n0  2020-09-21                  S&P Merval  Argentina    41484.06    41514.85   \n1  2020-09-21  S&P/BYMA Argentina General  Argentina  1755630.00  1756533.00   \n2  2020-09-21                 S&P/ASX 200  Australia     5822.60     5868.50   \n3  2020-09-21          ASX All Ordinaries  Australia     6013.50     6060.50   \n4  2020-09-21        ASX Small Ordinaries  Australia     2754.40     2784.70   \n\n          low  changeTotal  \n0    39501.22      1684.17  \n1  1673531.00     69052.00  \n2     5808.20       -41.90  \n3     6000.10       -44.10  \n4     2751.30       -25.60  ",
      "text/html": "<div>\n<style scoped>\n    .dataframe tbody tr th:only-of-type {\n        vertical-align: middle;\n    }\n\n    .dataframe tbody tr th {\n        vertical-align: top;\n    }\n\n    .dataframe thead th {\n        text-align: right;\n    }\n</style>\n<table border=\"1\" class=\"dataframe\">\n  <thead>\n    <tr style=\"text-align: right;\">\n      <th></th>\n      <th>date</th>\n      <th>index</th>\n      <th>country</th>\n      <th>last</th>\n      <th>high</th>\n      <th>low</th>\n      <th>changeTotal</th>\n    </tr>\n  </thead>\n  <tbody>\n    <tr>\n      <th>0</th>\n      <td>2020-09-21</td>\n      <td>S&amp;P Merval</td>\n      <td>Argentina</td>\n      <td>41484.06</td>\n      <td>41514.85</td>\n      <td>39501.22</td>\n      <td>1684.17</td>\n    </tr>\n    <tr>\n      <th>1</th>\n      <td>2020-09-21</td>\n      <td>S&amp;P/BYMA Argentina General</td>\n      <td>Argentina</td>\n      <td>1755630.00</td>\n      <td>1756533.00</td>\n      <td>1673531.00</td>\n      <td>69052.00</td>\n    </tr>\n    <tr>\n      <th>2</th>\n      <td>2020-09-21</td>\n      <td>S&amp;P/ASX 200</td>\n      <td>Australia</td>\n      <td>5822.60</td>\n      <td>5868.50</td>\n      <td>5808.20</td>\n      <td>-41.90</td>\n    </tr>\n    <tr>\n      <th>3</th>\n      <td>2020-09-21</td>\n      <td>ASX All Ordinaries</td>\n      <td>Australia</td>\n      <td>6013.50</td>\n      <td>6060.50</td>\n      <td>6000.10</td>\n      <td>-44.10</td>\n    </tr>\n    <tr>\n      <th>4</th>\n      <td>2020-09-21</td>\n      <td>ASX Small Ordinaries</td>\n      <td>Australia</td>\n      <td>2754.40</td>\n      <td>2784.70</td>\n      <td>2751.30</td>\n      <td>-25.60</td>\n    </tr>\n  </tbody>\n</table>\n</div>"
     },
     "execution_count": 3,
     "metadata": {},
     "output_type": "execute_result"
    }
   ],
   "source": [
    "print(index_raw.info)\n",
    "index_raw.head()"
   ],
   "metadata": {
    "collapsed": false,
    "pycharm": {
     "name": "#%%\n"
    }
   }
  },
  {
   "cell_type": "code",
   "execution_count": 4,
   "outputs": [
    {
     "name": "stdout",
     "output_type": "stream",
     "text": [
      "<bound method DataFrame.info of            date symbol              name  current_price    market_cap  \\\n",
      "0    2020-09-21    btc           Bitcoin   10640.690000  1.968105e+11   \n",
      "1    2020-09-21    eth          Ethereum     352.380000  3.971092e+10   \n",
      "2    2020-09-21   usdt            Tether       1.000000  1.521650e+10   \n",
      "3    2020-09-21    xrp               XRP       0.237634  1.070361e+10   \n",
      "4    2020-09-21    bch      Bitcoin Cash     216.300000  4.032451e+09   \n",
      "..          ...    ...               ...            ...           ...   \n",
      "195  2020-09-22    sol            Solana       2.800000  1.049266e+08   \n",
      "196  2020-09-22    tkx  Tokenize Xchange       1.260000  1.010155e+08   \n",
      "197  2020-09-22     gt         GateToken       0.537676  1.005111e+08   \n",
      "198  2020-09-22    rvn         Ravencoin       0.014176  1.004625e+08   \n",
      "199  2020-09-22   wnxm       Wrapped NXM      39.100000  9.986689e+07   \n",
      "\n",
      "     market_cap_rank  fully_diluted_valuation  total_volume      high_24h  \\\n",
      "0                  1             2.234545e+11  2.189182e+10  10984.720000   \n",
      "1                  2                      NaN  1.204436e+10    380.570000   \n",
      "2                  3                      NaN  3.729479e+10      1.000000   \n",
      "3                  4                      NaN  1.916560e+09      0.249923   \n",
      "4                  5                      NaN  2.259068e+09    230.460000   \n",
      "..               ...                      ...           ...           ...   \n",
      "195               96                      NaN  2.064063e+07      2.960000   \n",
      "196               97                      NaN  2.064439e+06      1.340000   \n",
      "197               98                      NaN  2.618503e+07      0.548541   \n",
      "198               99                      NaN  1.103101e+07      0.014503   \n",
      "199              100             9.986689e+07  3.051077e+07     40.990000   \n",
      "\n",
      "          low_24h  ...  price_change_percentage_24h  market_cap_change_24h  \\\n",
      "0    10636.490000  ...                     -3.02364          -6.084553e+09   \n",
      "1      352.910000  ...                     -7.40650          -3.150217e+09   \n",
      "2        0.997493  ...                      0.09279           4.864726e+06   \n",
      "3        0.237629  ...                     -4.91526          -5.455162e+08   \n",
      "4      216.300000  ...                     -6.14548          -2.378618e+08   \n",
      "..            ...  ...                          ...                    ...   \n",
      "195      2.510000  ...                     10.18499           1.117532e+07   \n",
      "196      1.240000  ...                     -5.39915          -5.919150e+06   \n",
      "197      0.535254  ...                     -1.95697          -2.210831e+06   \n",
      "198      0.013463  ...                     -0.96978          -1.898190e+06   \n",
      "199     34.090000  ...                      6.30044           8.065092e+06   \n",
      "\n",
      "     market_cap_change_percentage_24h  circulating_supply  total_supply  \\\n",
      "0                            -2.99887        1.849602e+07  2.100000e+07   \n",
      "1                            -7.34982        1.126930e+08           NaN   \n",
      "2                             0.03198        1.520030e+10  1.016657e+10   \n",
      "3                            -4.84941        4.504234e+10  1.000000e+11   \n",
      "4                            -5.57013        1.852361e+07  2.100000e+07   \n",
      "..                                ...                 ...           ...   \n",
      "195                          11.92017        3.764861e+07  4.886306e+08   \n",
      "196                          -5.53530        8.000000e+07  1.000000e+08   \n",
      "197                          -2.15225        1.869345e+08  3.000000e+08   \n",
      "198                          -1.85441        7.092885e+09  2.100000e+10   \n",
      "199                           8.78533        2.564785e+06  2.564785e+06   \n",
      "\n",
      "       max_supply           ath                  ath_date        atl  \\\n",
      "0    2.100000e+07  19665.390000  2017-12-16T00:00:00.000Z  67.810000   \n",
      "1             NaN   1448.180000  2018-01-13T00:00:00.000Z   0.432979   \n",
      "2             NaN      1.320000  2018-07-24T00:00:00.000Z   0.572521   \n",
      "3             NaN      3.400000  2018-01-07T00:00:00.000Z   0.002686   \n",
      "4             NaN   3785.820000  2017-12-20T00:00:00.000Z  76.930000   \n",
      "..            ...           ...                       ...        ...   \n",
      "195           NaN      4.890000  2020-09-01T04:25:35.418Z   0.500801   \n",
      "196           NaN      1.410000  2020-09-20T04:36:09.984Z   0.111255   \n",
      "197           NaN      1.190000  2019-04-24T07:14:14.950Z   0.257540   \n",
      "198           NaN      0.078895  2019-06-03T21:05:20.962Z   0.008932   \n",
      "199  2.564785e+06     77.470000  2020-08-30T14:19:22.985Z   8.140000   \n",
      "\n",
      "                     atl_date  \n",
      "0    2013-07-06T00:00:00.000Z  \n",
      "1    2015-10-20T00:00:00.000Z  \n",
      "2    2015-03-02T00:00:00.000Z  \n",
      "3    2014-05-22T00:00:00.000Z  \n",
      "4    2018-12-16T00:00:00.000Z  \n",
      "..                        ...  \n",
      "195  2020-05-11T19:35:23.449Z  \n",
      "196  2019-04-28T00:00:00.000Z  \n",
      "197  2020-03-13T02:18:02.481Z  \n",
      "198  2020-03-13T02:30:00.004Z  \n",
      "199  2020-07-27T15:50:07.313Z  \n",
      "\n",
      "[200 rows x 21 columns]>\n"
     ]
    },
    {
     "data": {
      "text/plain": "         date symbol          name  current_price    market_cap  \\\n0  2020-09-21    btc       Bitcoin   10640.690000  1.968105e+11   \n1  2020-09-21    eth      Ethereum     352.380000  3.971092e+10   \n2  2020-09-21   usdt        Tether       1.000000  1.521650e+10   \n3  2020-09-21    xrp           XRP       0.237634  1.070361e+10   \n4  2020-09-21    bch  Bitcoin Cash     216.300000  4.032451e+09   \n\n   market_cap_rank  fully_diluted_valuation  total_volume      high_24h  \\\n0                1             2.234545e+11  2.189182e+10  10984.720000   \n1                2                      NaN  1.204436e+10    380.570000   \n2                3                      NaN  3.729479e+10      1.000000   \n3                4                      NaN  1.916560e+09      0.249923   \n4                5                      NaN  2.259068e+09    230.460000   \n\n        low_24h  ...  price_change_percentage_24h  market_cap_change_24h  \\\n0  10636.490000  ...                     -3.02364          -6.084553e+09   \n1    352.910000  ...                     -7.40650          -3.150217e+09   \n2      0.997493  ...                      0.09279           4.864726e+06   \n3      0.237629  ...                     -4.91526          -5.455162e+08   \n4    216.300000  ...                     -6.14548          -2.378618e+08   \n\n   market_cap_change_percentage_24h  circulating_supply  total_supply  \\\n0                          -2.99887        1.849602e+07  2.100000e+07   \n1                          -7.34982        1.126930e+08           NaN   \n2                           0.03198        1.520030e+10  1.016657e+10   \n3                          -4.84941        4.504234e+10  1.000000e+11   \n4                          -5.57013        1.852361e+07  2.100000e+07   \n\n   max_supply       ath                  ath_date        atl  \\\n0  21000000.0  19665.39  2017-12-16T00:00:00.000Z  67.810000   \n1         NaN   1448.18  2018-01-13T00:00:00.000Z   0.432979   \n2         NaN      1.32  2018-07-24T00:00:00.000Z   0.572521   \n3         NaN      3.40  2018-01-07T00:00:00.000Z   0.002686   \n4         NaN   3785.82  2017-12-20T00:00:00.000Z  76.930000   \n\n                   atl_date  \n0  2013-07-06T00:00:00.000Z  \n1  2015-10-20T00:00:00.000Z  \n2  2015-03-02T00:00:00.000Z  \n3  2014-05-22T00:00:00.000Z  \n4  2018-12-16T00:00:00.000Z  \n\n[5 rows x 21 columns]",
      "text/html": "<div>\n<style scoped>\n    .dataframe tbody tr th:only-of-type {\n        vertical-align: middle;\n    }\n\n    .dataframe tbody tr th {\n        vertical-align: top;\n    }\n\n    .dataframe thead th {\n        text-align: right;\n    }\n</style>\n<table border=\"1\" class=\"dataframe\">\n  <thead>\n    <tr style=\"text-align: right;\">\n      <th></th>\n      <th>date</th>\n      <th>symbol</th>\n      <th>name</th>\n      <th>current_price</th>\n      <th>market_cap</th>\n      <th>market_cap_rank</th>\n      <th>fully_diluted_valuation</th>\n      <th>total_volume</th>\n      <th>high_24h</th>\n      <th>low_24h</th>\n      <th>...</th>\n      <th>price_change_percentage_24h</th>\n      <th>market_cap_change_24h</th>\n      <th>market_cap_change_percentage_24h</th>\n      <th>circulating_supply</th>\n      <th>total_supply</th>\n      <th>max_supply</th>\n      <th>ath</th>\n      <th>ath_date</th>\n      <th>atl</th>\n      <th>atl_date</th>\n    </tr>\n  </thead>\n  <tbody>\n    <tr>\n      <th>0</th>\n      <td>2020-09-21</td>\n      <td>btc</td>\n      <td>Bitcoin</td>\n      <td>10640.690000</td>\n      <td>1.968105e+11</td>\n      <td>1</td>\n      <td>2.234545e+11</td>\n      <td>2.189182e+10</td>\n      <td>10984.720000</td>\n      <td>10636.490000</td>\n      <td>...</td>\n      <td>-3.02364</td>\n      <td>-6.084553e+09</td>\n      <td>-2.99887</td>\n      <td>1.849602e+07</td>\n      <td>2.100000e+07</td>\n      <td>21000000.0</td>\n      <td>19665.39</td>\n      <td>2017-12-16T00:00:00.000Z</td>\n      <td>67.810000</td>\n      <td>2013-07-06T00:00:00.000Z</td>\n    </tr>\n    <tr>\n      <th>1</th>\n      <td>2020-09-21</td>\n      <td>eth</td>\n      <td>Ethereum</td>\n      <td>352.380000</td>\n      <td>3.971092e+10</td>\n      <td>2</td>\n      <td>NaN</td>\n      <td>1.204436e+10</td>\n      <td>380.570000</td>\n      <td>352.910000</td>\n      <td>...</td>\n      <td>-7.40650</td>\n      <td>-3.150217e+09</td>\n      <td>-7.34982</td>\n      <td>1.126930e+08</td>\n      <td>NaN</td>\n      <td>NaN</td>\n      <td>1448.18</td>\n      <td>2018-01-13T00:00:00.000Z</td>\n      <td>0.432979</td>\n      <td>2015-10-20T00:00:00.000Z</td>\n    </tr>\n    <tr>\n      <th>2</th>\n      <td>2020-09-21</td>\n      <td>usdt</td>\n      <td>Tether</td>\n      <td>1.000000</td>\n      <td>1.521650e+10</td>\n      <td>3</td>\n      <td>NaN</td>\n      <td>3.729479e+10</td>\n      <td>1.000000</td>\n      <td>0.997493</td>\n      <td>...</td>\n      <td>0.09279</td>\n      <td>4.864726e+06</td>\n      <td>0.03198</td>\n      <td>1.520030e+10</td>\n      <td>1.016657e+10</td>\n      <td>NaN</td>\n      <td>1.32</td>\n      <td>2018-07-24T00:00:00.000Z</td>\n      <td>0.572521</td>\n      <td>2015-03-02T00:00:00.000Z</td>\n    </tr>\n    <tr>\n      <th>3</th>\n      <td>2020-09-21</td>\n      <td>xrp</td>\n      <td>XRP</td>\n      <td>0.237634</td>\n      <td>1.070361e+10</td>\n      <td>4</td>\n      <td>NaN</td>\n      <td>1.916560e+09</td>\n      <td>0.249923</td>\n      <td>0.237629</td>\n      <td>...</td>\n      <td>-4.91526</td>\n      <td>-5.455162e+08</td>\n      <td>-4.84941</td>\n      <td>4.504234e+10</td>\n      <td>1.000000e+11</td>\n      <td>NaN</td>\n      <td>3.40</td>\n      <td>2018-01-07T00:00:00.000Z</td>\n      <td>0.002686</td>\n      <td>2014-05-22T00:00:00.000Z</td>\n    </tr>\n    <tr>\n      <th>4</th>\n      <td>2020-09-21</td>\n      <td>bch</td>\n      <td>Bitcoin Cash</td>\n      <td>216.300000</td>\n      <td>4.032451e+09</td>\n      <td>5</td>\n      <td>NaN</td>\n      <td>2.259068e+09</td>\n      <td>230.460000</td>\n      <td>216.300000</td>\n      <td>...</td>\n      <td>-6.14548</td>\n      <td>-2.378618e+08</td>\n      <td>-5.57013</td>\n      <td>1.852361e+07</td>\n      <td>2.100000e+07</td>\n      <td>NaN</td>\n      <td>3785.82</td>\n      <td>2017-12-20T00:00:00.000Z</td>\n      <td>76.930000</td>\n      <td>2018-12-16T00:00:00.000Z</td>\n    </tr>\n  </tbody>\n</table>\n<p>5 rows × 21 columns</p>\n</div>"
     },
     "execution_count": 4,
     "metadata": {},
     "output_type": "execute_result"
    }
   ],
   "source": [
    "print(crypto_raw.info)\n",
    "crypto_raw.head()"
   ],
   "metadata": {
    "collapsed": false,
    "pycharm": {
     "name": "#%%\n"
    }
   }
  },
  {
   "cell_type": "code",
   "execution_count": 5,
   "outputs": [
    {
     "data": {
      "text/plain": "<matplotlib.axes._subplots.AxesSubplot at 0x245e10a6580>"
     },
     "execution_count": 5,
     "metadata": {},
     "output_type": "execute_result"
    },
    {
     "data": {
      "text/plain": "<Figure size 432x288 with 1 Axes>",
      "image/png": "[encoded data removed]"
     },
     "metadata": {
      "needs_background": "light"
     },
     "output_type": "display_data"
    }
   ],
   "source": [
    "sns.scatterplot(data=index_raw, x=\"index\", y=\"last\")\n"
   ],
   "metadata": {
    "collapsed": false,
    "pycharm": {
     "name": "#%%\n"
    }
   }
  }
 ],
 "metadata": {
  "kernelspec": {
   "name": "python3",
   "language": "python",
   "display_name": "Python 3"
  },
  "language_info": {
   "codemirror_mode": {
    "name": "ipython",
    "version": 2
   },
   "file_extension": ".py",
   "mimetype": "text/x-python",
   "name": "python",
   "nbconvert_exporter": "python",
   "pygments_lexer": "ipython2",
   "version": "2.7.6"
  }
 },
 "nbformat": 4,
 "nbformat_minor": 0
}